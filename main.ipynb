{
 "cells": [
  {
   "attachments": {},
   "cell_type": "markdown",
   "metadata": {},
   "source": [
    "# Tugas Besar IF2220 Probabilitas dan Statistika\n",
    "### Penarikan Kesimpulan dan Pengujian Hipotesis\n",
    "\n",
    "\n",
    "### Author\n",
    "- Vieri Fajar Firdaus / 13521099\n",
    "- Saddam Annais Shaquille / 13521121"
   ]
  },
  {
   "attachments": {},
   "cell_type": "markdown",
   "metadata": {},
   "source": [
    "### Inisialisasi library dan data"
   ]
  },
  {
   "cell_type": "code",
   "execution_count": 22,
   "metadata": {},
   "outputs": [],
   "source": [
    "import pandas as pd\n",
    "import matplotlib.pyplot as plt\n",
    "import seaborn as sns\n",
    "from IPython.display import display, Markdown, Latex\n",
    "from scipy import stats\n",
    "anggur = pd.read_csv('anggur.csv')\n",
    "anggur.head(100)\n",
    "columns = ['fixed acidity', 'volatile acidity', 'citric acid', 'residual sugar', 'chlorides', 'free sulfur dioxide', 'total sulfur dioxide', 'density', 'pH', 'sulphates', 'alcohol', 'quality']"
   ]
  },
  {
   "attachments": {},
   "cell_type": "markdown",
   "metadata": {},
   "source": [
    "### Data Description\n",
    "- Fixed acidity (keasaman tetap): jumlah asam yang terkandung dalam anggur yang tidak mudah menguap.\n",
    "- Volatile acidity (keasaman mudah menguap): jumlah asam yang terkandung dalam anggur yang mudah menguap.\n",
    "- Citric acid (asam sitrat): jumlah asam sitrat yang terkandung dalam anggur.\n",
    "- Residual sugar (gula sisa): jumlah gula yang tersisa setelah fermentasi selesai.\n",
    "- Chlorides (klorida): jumlah garam klorida yang terkandung dalam anggur.\n",
    "- Free sulfur dioxide (sulfur dioksida bebas): jumlah sulfur dioksida bebas yang terkandung dalam anggur.\n",
    "- Total sulfur dioxide (total sulfur dioksida): jumlah sulfur dioksida total yang terkandung dalam anggur.\n",
    "- Density (densitas): berat relatif anggur dibandingkan dengan air murni pada 20 derajat Celsius.\n",
    "- pH: tingkat keasaman pada skala 0 hingga 14.\n",
    "- Sulphates (sulfat): jumlah sulfat yang terkandung dalam anggur.\n",
    "- Alcohol (alkohol): persentase alkohol dalam anggur.\n",
    "- Quality (kualitas): skor kualitas antara 0 dan 10 berdasarkan data sensorik."
   ]
  },
  {
   "attachments": {},
   "cell_type": "markdown",
   "metadata": {},
   "source": [
    "### 1. Menuliskan deskripsi statistika (*descriptive statistics*) dari semua kolom pada data yang bersifat numerik, terdiri dari mean, median, modus, standar deviasi, variansi, range, nilai minimum, maksimum, kuartil, IQR (*interquartile range*), *skewness*, dan *kurtosis*."
   ]
  },
  {
   "cell_type": "code",
   "execution_count": 2,
   "metadata": {},
   "outputs": [
    {
     "data": {
      "text/markdown": [
       "**Tipe data setiap kolom**"
      ],
      "text/plain": [
       "<IPython.core.display.Markdown object>"
      ]
     },
     "metadata": {},
     "output_type": "display_data"
    },
    {
     "name": "stdout",
     "output_type": "stream",
     "text": [
      "<class 'pandas.core.frame.DataFrame'>\n",
      "RangeIndex: 1000 entries, 0 to 999\n",
      "Data columns (total 12 columns):\n",
      " #   Column                Non-Null Count  Dtype  \n",
      "---  ------                --------------  -----  \n",
      " 0   fixed acidity         1000 non-null   float64\n",
      " 1   volatile acidity      1000 non-null   float64\n",
      " 2   citric acid           1000 non-null   float64\n",
      " 3   residual sugar        1000 non-null   float64\n",
      " 4   chlorides             1000 non-null   float64\n",
      " 5   free sulfur dioxide   1000 non-null   float64\n",
      " 6   total sulfur dioxide  1000 non-null   float64\n",
      " 7   density               1000 non-null   float64\n",
      " 8   pH                    1000 non-null   float64\n",
      " 9   sulphates             1000 non-null   float64\n",
      " 10  alcohol               1000 non-null   float64\n",
      " 11  quality               1000 non-null   int64  \n",
      "dtypes: float64(11), int64(1)\n",
      "memory usage: 93.9 KB\n"
     ]
    }
   ],
   "source": [
    "#untuk mengetahui tipe data dari setiap kolom\n",
    "display(Markdown('**Tipe data setiap kolom**'))\n",
    "anggur.info()"
   ]
  },
  {
   "cell_type": "code",
   "execution_count": 3,
   "metadata": {},
   "outputs": [],
   "source": [
    "def info(column):\n",
    "    display(Markdown('**Deskripsi statistik kolom {}**'.format(column)))\n",
    "    print('Mean\\t\\t\\t:', anggur[column].mean())\n",
    "    print('Median\\t\\t\\t:', anggur[column].median())\n",
    "    mode=anggur[column].mode()\n",
    "    if(len(mode)==len(anggur)):\n",
    "        print('Modus\\t\\t\\t: Seluruh data merupakan modus')\n",
    "    else :\n",
    "        value=\"\"\n",
    "        for i in range(len(mode)):\n",
    "            if(i==len(mode)-1):\n",
    "                value=value+str(mode[i])\n",
    "            else:\n",
    "                value=value+str(mode[i])+\", \"\n",
    "                \n",
    "        print('Modus\\t\\t\\t:',value)\n",
    "    print('Standar Deviasi\\t\\t:', anggur[column].mode()[0])\n",
    "    print('Range\\t\\t\\t:', anggur[column].max() - anggur[column].min())\n",
    "    print('Kuartil 1\\t\\t:', anggur[column].quantile(0.25))\n",
    "    print('Kuartil 2\\t\\t:', anggur[column].quantile(0.5))\n",
    "    print('Kuartil 3\\t\\t:', anggur[column].quantile(0.75))\n",
    "    print('Interquartile Range\\t:', anggur[column].quantile(0.75) - anggur[column].quantile(0.25))\n",
    "    print('Skewness\\t\\t:', anggur[column].skew())\n",
    "    print('Kurtosis\\t\\t:', anggur[column].kurtosis())\n"
   ]
  },
  {
   "cell_type": "code",
   "execution_count": 4,
   "metadata": {},
   "outputs": [
    {
     "data": {
      "text/markdown": [
       "**Deskripsi statistik kolom fixed acidity**"
      ],
      "text/plain": [
       "<IPython.core.display.Markdown object>"
      ]
     },
     "metadata": {},
     "output_type": "display_data"
    },
    {
     "name": "stdout",
     "output_type": "stream",
     "text": [
      "Mean\t\t\t: 7.15253\n",
      "Median\t\t\t: 7.15\n",
      "Modus\t\t\t: 6.54\n",
      "Standar Deviasi\t\t: 6.54\n",
      "Range\t\t\t: 8.17\n",
      "Kuartil 1\t\t: 6.3775\n",
      "Kuartil 2\t\t: 7.15\n",
      "Kuartil 3\t\t: 8.0\n",
      "Interquartile Range\t: 1.6224999999999996\n",
      "Skewness\t\t: -0.028878575532660055\n",
      "Kurtosis\t\t: -0.019292120932933532\n"
     ]
    }
   ],
   "source": [
    "info(columns[0])"
   ]
  },
  {
   "cell_type": "code",
   "execution_count": 5,
   "metadata": {},
   "outputs": [
    {
     "data": {
      "text/markdown": [
       "**Deskripsi statistik kolom volatile acidity**"
      ],
      "text/plain": [
       "<IPython.core.display.Markdown object>"
      ]
     },
     "metadata": {},
     "output_type": "display_data"
    },
    {
     "name": "stdout",
     "output_type": "stream",
     "text": [
      "Mean\t\t\t: 0.5208385000000001\n",
      "Median\t\t\t: 0.52485\n",
      "Modus\t\t\t: 0.5546\n",
      "Standar Deviasi\t\t: 0.5546\n",
      "Range\t\t\t: 0.6652\n",
      "Kuartil 1\t\t: 0.4561\n",
      "Kuartil 2\t\t: 0.52485\n",
      "Kuartil 3\t\t: 0.5853750000000001\n",
      "Interquartile Range\t: 0.12927500000000008\n",
      "Skewness\t\t: -0.1976986986092083\n",
      "Kurtosis\t\t: 0.16185290336961788\n"
     ]
    }
   ],
   "source": [
    "info(columns[1])"
   ]
  },
  {
   "cell_type": "code",
   "execution_count": 6,
   "metadata": {},
   "outputs": [
    {
     "data": {
      "text/markdown": [
       "**Deskripsi statistik kolom citric acid**"
      ],
      "text/plain": [
       "<IPython.core.display.Markdown object>"
      ]
     },
     "metadata": {},
     "output_type": "display_data"
    },
    {
     "name": "stdout",
     "output_type": "stream",
     "text": [
      "Mean\t\t\t: 0.27051699999999995\n",
      "Median\t\t\t: 0.2722\n",
      "Modus\t\t\t: 0.3019\n",
      "Standar Deviasi\t\t: 0.3019\n",
      "Range\t\t\t: 0.29290000000000005\n",
      "Kuartil 1\t\t: 0.2378\n",
      "Kuartil 2\t\t: 0.2722\n",
      "Kuartil 3\t\t: 0.302325\n",
      "Interquartile Range\t: 0.064525\n",
      "Skewness\t\t: -0.045576058685017296\n",
      "Kurtosis\t\t: -0.1046792495951605\n"
     ]
    }
   ],
   "source": [
    "info(columns[2])"
   ]
  },
  {
   "cell_type": "code",
   "execution_count": 7,
   "metadata": {},
   "outputs": [
    {
     "data": {
      "text/markdown": [
       "**Deskripsi statistik kolom residual sugar**"
      ],
      "text/plain": [
       "<IPython.core.display.Markdown object>"
      ]
     },
     "metadata": {},
     "output_type": "display_data"
    },
    {
     "name": "stdout",
     "output_type": "stream",
     "text": [
      "Mean\t\t\t: 2.5671036825067595\n",
      "Median\t\t\t: 2.519430272865794\n",
      "Modus\t\t\t: Seluruh data merupakan modus\n",
      "Standar Deviasi\t\t: 0.032554525015195\n",
      "Range\t\t\t: 5.5182004097078625\n",
      "Kuartil 1\t\t: 1.8963299434886831\n",
      "Kuartil 2\t\t: 2.519430272865794\n",
      "Kuartil 3\t\t: 3.220873482829786\n",
      "Interquartile Range\t: 1.324543539341103\n",
      "Skewness\t\t: 0.13263808618992312\n",
      "Kurtosis\t\t: -0.04298003436476261\n"
     ]
    }
   ],
   "source": [
    "info(columns[3])"
   ]
  },
  {
   "cell_type": "code",
   "execution_count": 8,
   "metadata": {},
   "outputs": [
    {
     "data": {
      "text/markdown": [
       "**Deskripsi statistik kolom chlorides**"
      ],
      "text/plain": [
       "<IPython.core.display.Markdown object>"
      ]
     },
     "metadata": {},
     "output_type": "display_data"
    },
    {
     "name": "stdout",
     "output_type": "stream",
     "text": [
      "Mean\t\t\t: 0.08119515250784977\n",
      "Median\t\t\t: 0.0821669021645236\n",
      "Modus\t\t\t: Seluruh data merupakan modus\n",
      "Standar Deviasi\t\t: 0.0151224391657095\n",
      "Range\t\t\t: 0.1256351302653488\n",
      "Kuartil 1\t\t: 0.06657363190977357\n",
      "Kuartil 2\t\t: 0.0821669021645236\n",
      "Kuartil 3\t\t: 0.09531150148556258\n",
      "Interquartile Range\t: 0.028737869575789013\n",
      "Skewness\t\t: -0.05131929742072573\n",
      "Kurtosis\t\t: -0.2465081359240382\n"
     ]
    }
   ],
   "source": [
    "info(columns[4])"
   ]
  },
  {
   "cell_type": "code",
   "execution_count": 9,
   "metadata": {},
   "outputs": [
    {
     "data": {
      "text/markdown": [
       "**Deskripsi statistik kolom free sulfur dioxide**"
      ],
      "text/plain": [
       "<IPython.core.display.Markdown object>"
      ]
     },
     "metadata": {},
     "output_type": "display_data"
    },
    {
     "name": "stdout",
     "output_type": "stream",
     "text": [
      "Mean\t\t\t: 14.907679251029796\n",
      "Median\t\t\t: 14.860346236568924\n",
      "Modus\t\t\t: Seluruh data merupakan modus\n",
      "Standar Deviasi\t\t: 0.194678523326937\n",
      "Range\t\t\t: 27.26784690109891\n",
      "Kuartil 1\t\t: 11.426716949457619\n",
      "Kuartil 2\t\t: 14.860346236568924\n",
      "Kuartil 3\t\t: 18.313097915395005\n",
      "Interquartile Range\t: 6.886380965937386\n",
      "Skewness\t\t: 0.007130415991143398\n",
      "Kurtosis\t\t: -0.36496364342685306\n"
     ]
    }
   ],
   "source": [
    "info(columns[5])"
   ]
  },
  {
   "cell_type": "code",
   "execution_count": 10,
   "metadata": {},
   "outputs": [
    {
     "data": {
      "text/markdown": [
       "**Deskripsi statistik kolom total sulfur dioxide**"
      ],
      "text/plain": [
       "<IPython.core.display.Markdown object>"
      ]
     },
     "metadata": {},
     "output_type": "display_data"
    },
    {
     "name": "stdout",
     "output_type": "stream",
     "text": [
      "Mean\t\t\t: 40.290150000000004\n",
      "Median\t\t\t: 40.19\n",
      "Modus\t\t\t: 35.2, 37.25, 39.64, 40.61, 41.05, 41.59, 44.51\n",
      "Standar Deviasi\t\t: 35.2\n",
      "Range\t\t\t: 66.80999999999999\n",
      "Kuartil 1\t\t: 33.785000000000004\n",
      "Kuartil 2\t\t: 40.19\n",
      "Kuartil 3\t\t: 47.0225\n",
      "Interquartile Range\t: 13.237499999999997\n",
      "Skewness\t\t: -0.024060026812269975\n",
      "Kurtosis\t\t: 0.06394978916172311\n"
     ]
    }
   ],
   "source": [
    "info(columns[6])"
   ]
  },
  {
   "cell_type": "code",
   "execution_count": 11,
   "metadata": {},
   "outputs": [
    {
     "data": {
      "text/markdown": [
       "**Deskripsi statistik kolom density**"
      ],
      "text/plain": [
       "<IPython.core.display.Markdown object>"
      ]
     },
     "metadata": {},
     "output_type": "display_data"
    },
    {
     "name": "stdout",
     "output_type": "stream",
     "text": [
      "Mean\t\t\t: 0.9959253000000001\n",
      "Median\t\t\t: 0.996\n",
      "Modus\t\t\t: 0.9959, 0.9961, 0.9965, 0.997\n",
      "Standar Deviasi\t\t: 0.9959\n",
      "Range\t\t\t: 0.013799999999999923\n",
      "Kuartil 1\t\t: 0.9946\n",
      "Kuartil 2\t\t: 0.996\n",
      "Kuartil 3\t\t: 0.9972\n",
      "Interquartile Range\t: 0.0025999999999999357\n",
      "Skewness\t\t: -0.07688278915513917\n",
      "Kurtosis\t\t: 0.01636562128503849\n"
     ]
    }
   ],
   "source": [
    "info(columns[7])"
   ]
  },
  {
   "cell_type": "code",
   "execution_count": 12,
   "metadata": {},
   "outputs": [
    {
     "data": {
      "text/markdown": [
       "**Deskripsi statistik kolom pH**"
      ],
      "text/plain": [
       "<IPython.core.display.Markdown object>"
      ]
     },
     "metadata": {},
     "output_type": "display_data"
    },
    {
     "name": "stdout",
     "output_type": "stream",
     "text": [
      "Mean\t\t\t: 3.30361\n",
      "Median\t\t\t: 3.3\n",
      "Modus\t\t\t: 3.34\n",
      "Standar Deviasi\t\t: 3.34\n",
      "Range\t\t\t: 0.7399999999999998\n",
      "Kuartil 1\t\t: 3.23\n",
      "Kuartil 2\t\t: 3.3\n",
      "Kuartil 3\t\t: 3.37\n",
      "Interquartile Range\t: 0.14000000000000012\n",
      "Skewness\t\t: 0.14767259510827038\n",
      "Kurtosis\t\t: 0.0809095518741838\n"
     ]
    }
   ],
   "source": [
    "info(columns[8])"
   ]
  },
  {
   "cell_type": "code",
   "execution_count": 13,
   "metadata": {},
   "outputs": [
    {
     "data": {
      "text/markdown": [
       "**Deskripsi statistik kolom sulphates**"
      ],
      "text/plain": [
       "<IPython.core.display.Markdown object>"
      ]
     },
     "metadata": {},
     "output_type": "display_data"
    },
    {
     "name": "stdout",
     "output_type": "stream",
     "text": [
      "Mean\t\t\t: 0.5983899999999999\n",
      "Median\t\t\t: 0.595\n",
      "Modus\t\t\t: 0.59\n",
      "Standar Deviasi\t\t: 0.59\n",
      "Range\t\t\t: 0.6699999999999999\n",
      "Kuartil 1\t\t: 0.53\n",
      "Kuartil 2\t\t: 0.595\n",
      "Kuartil 3\t\t: 0.67\n",
      "Interquartile Range\t: 0.14\n",
      "Skewness\t\t: 0.1491989008699043\n",
      "Kurtosis\t\t: 0.06481928180859686\n"
     ]
    }
   ],
   "source": [
    "info(columns[9])"
   ]
  },
  {
   "cell_type": "code",
   "execution_count": 14,
   "metadata": {},
   "outputs": [
    {
     "data": {
      "text/markdown": [
       "**Deskripsi statistik kolom sulphates**"
      ],
      "text/plain": [
       "<IPython.core.display.Markdown object>"
      ]
     },
     "metadata": {},
     "output_type": "display_data"
    },
    {
     "name": "stdout",
     "output_type": "stream",
     "text": [
      "Mean\t\t\t: 0.5983899999999999\n",
      "Median\t\t\t: 0.595\n",
      "Modus\t\t\t: 0.59\n",
      "Standar Deviasi\t\t: 0.59\n",
      "Range\t\t\t: 0.6699999999999999\n",
      "Kuartil 1\t\t: 0.53\n",
      "Kuartil 2\t\t: 0.595\n",
      "Kuartil 3\t\t: 0.67\n",
      "Interquartile Range\t: 0.14\n",
      "Skewness\t\t: 0.1491989008699043\n",
      "Kurtosis\t\t: 0.06481928180859686\n"
     ]
    }
   ],
   "source": [
    "info(columns[9])"
   ]
  },
  {
   "cell_type": "code",
   "execution_count": 15,
   "metadata": {},
   "outputs": [
    {
     "data": {
      "text/markdown": [
       "**Deskripsi statistik kolom alcohol**"
      ],
      "text/plain": [
       "<IPython.core.display.Markdown object>"
      ]
     },
     "metadata": {},
     "output_type": "display_data"
    },
    {
     "name": "stdout",
     "output_type": "stream",
     "text": [
      "Mean\t\t\t: 10.592279999999999\n",
      "Median\t\t\t: 10.61\n",
      "Modus\t\t\t: 9.86, 10.31\n",
      "Standar Deviasi\t\t: 9.86\n",
      "Range\t\t\t: 8.989999999999998\n",
      "Kuartil 1\t\t: 9.56\n",
      "Kuartil 2\t\t: 10.61\n",
      "Kuartil 3\t\t: 11.6225\n",
      "Interquartile Range\t: 2.0625\n",
      "Skewness\t\t: -0.01899140432111647\n",
      "Kurtosis\t\t: -0.13173155932281988\n"
     ]
    }
   ],
   "source": [
    "info(columns[10])"
   ]
  },
  {
   "cell_type": "code",
   "execution_count": 16,
   "metadata": {},
   "outputs": [
    {
     "data": {
      "text/markdown": [
       "**Deskripsi statistik kolom quality**"
      ],
      "text/plain": [
       "<IPython.core.display.Markdown object>"
      ]
     },
     "metadata": {},
     "output_type": "display_data"
    },
    {
     "name": "stdout",
     "output_type": "stream",
     "text": [
      "Mean\t\t\t: 7.958\n",
      "Median\t\t\t: 8.0\n",
      "Modus\t\t\t: 8\n",
      "Standar Deviasi\t\t: 8\n",
      "Range\t\t\t: 5\n",
      "Kuartil 1\t\t: 7.0\n",
      "Kuartil 2\t\t: 8.0\n",
      "Kuartil 3\t\t: 9.0\n",
      "Interquartile Range\t: 2.0\n",
      "Skewness\t\t: -0.08905409122491781\n",
      "Kurtosis\t\t: 0.10829100232871003\n"
     ]
    }
   ],
   "source": [
    "info(columns[11])"
   ]
  },
  {
   "attachments": {},
   "cell_type": "markdown",
   "metadata": {},
   "source": [
    "### 2. Membuat Visualisasi plot distribusi dalam bentuk histogram dan boxplot untuk setiap kolom numerik."
   ]
  },
  {
   "cell_type": "code",
   "execution_count": 17,
   "metadata": {},
   "outputs": [],
   "source": [
    "# Make a function to show the histogram and box plots\n",
    "def hist_box_plot(df: pd.DataFrame, column: str) -> None:\n",
    "  fig, (ax1, ax2) =plt.subplots(nrows = 2, ncols = 1, figsize=(10, 5), sharex=True)\n",
    "  g1 = sns.histplot(data = df, x = column, ax=ax1, color=\"#03C988\", kde = True, line_kws={\"linewidth\": 1.5, \"alpha\": 1})\n",
    "  g1.lines[0].set_color('#DF7857')\n",
    "  g2 = sns.boxplot(data = df, x = column, ax=ax2, color=\"#03C988\", flierprops={\"marker\":'o', \"markersize\":5, \"markeredgecolor\":'black', \"markerfacecolor\":'white', \"alpha\":0.6})\n",
    "  g1.set(xlabel=None)\n",
    "  g1.set(ylabel=None)\n",
    "  g2.set(xlabel=None)\n",
    "  g2.set(ylabel=None)\n",
    "  fig.suptitle(column, y = 0.95, fontsize = 17)"
   ]
  },
  {
   "cell_type": "code",
   "execution_count": 18,
   "metadata": {},
   "outputs": [
    {
     "data": {
      "image/png": "[encoded data removed]",
      "text/plain": [
       "<Figure size 1000x500 with 2 Axes>"
      ]
     },
     "metadata": {},
     "output_type": "display_data"
    }
   ],
   "source": [
    "# Untuk kolom fixed acidity\n",
    "hist_box_plot(anggur, anggur.columns[0])"
   ]
  },
  {
   "attachments": {},
   "cell_type": "markdown",
   "metadata": {},
   "source": [
    "- Berdasarkan histogram, terlihat bahwa data terdistribusi secara normal dengan condong kiri (*negative skewed*) yang hampir tidak terlihat. \n",
    "- Berdasarkan boxplot, terlihat bahwa data fix acidity sangat beragam dengan nilai minimumnya hampir mendekati 4 dan maksimumnya melebihi 10 serta mediannya sedikit di atas 7\n",
    "- Terdapat beberapa *outliers* yang terlihat di bawah nilai minimum maupun di atas nilai maksimum. "
   ]
  },
  {
   "cell_type": "code",
   "execution_count": 19,
   "metadata": {},
   "outputs": [
    {
     "data": {
      "image/png": "[encoded data removed]",
      "text/plain": [
       "<Figure size 1000x500 with 2 Axes>"
      ]
     },
     "metadata": {},
     "output_type": "display_data"
    }
   ],
   "source": [
    "# Untuk kolom volatile acidity\n",
    "hist_box_plot(anggur, anggur.columns[1])"
   ]
  },
  {
   "attachments": {},
   "cell_type": "markdown",
   "metadata": {},
   "source": [
    "- Berdasarkan histogram, terlihat bahwa data terdistribusi secara normal dengan sedikit condong kanan (*positive skewed*). \n",
    "- Berdasarkan boxplot, terlihat bahwa data *volatile acidity* memiliki rentang yang cukup kecil.\n",
    "- Nilai minimumnya kurang dari 0.3 dan maksimumnya kurang dari 0.8 serta mediannya sedikit di atas 0.5.\n",
    "- Terdapat 1 *outliers* yang terlihat di atas nilai maksimum dan beberapa lainnya di bawah nilai minimum. "
   ]
  },
  {
   "cell_type": "code",
   "execution_count": 45,
   "metadata": {},
   "outputs": [
    {
     "name": "stdout",
     "output_type": "stream",
     "text": [
      "p = 0.930858\n",
      "H0 tidak bisa ditolak, tidak normal\n"
     ]
    },
    {
     "data": {
      "image/png": "[encoded data removed]",
      "text/plain": [
       "<Figure size 1000x500 with 1 Axes>"
      ]
     },
     "metadata": {},
     "output_type": "display_data"
    }
   ],
   "source": [
    "def normality(column):\n",
    "    k2,p = stats.normaltest(anggur[column])\n",
    "    alpha = 5e-2\n",
    "    print(\"p = {:g}\".format(p))\n",
    "    if p < alpha:  # null hypothesis: x comes from a normal distribution\n",
    "        print(\"H0 ditolak, normal\")\n",
    "    else:\n",
    "        print(\"H0 tidak bisa ditolak, tidak normal\")\n",
    "    fig, ax1 =plt.subplots(nrows=1,ncols = 1, figsize=(10, 5), sharex=True)\n",
    "    g1 = sns.histplot(data = anggur, x = column, ax=ax1, color=\"#03c9c9\", kde = True, line_kws={\"linewidth\": 1.5, \"alpha\": 1})\n",
    "    g1.lines[0].set_color('#c91703')\n",
    "    g1.set(ylabel=None)\n",
    "normality(columns[1])\n"
   ]
  }
 ],
 "metadata": {
  "kernelspec": {
   "display_name": "Python 3",
   "language": "python",
   "name": "python3"
  },
  "language_info": {
   "codemirror_mode": {
    "name": "ipython",
    "version": 3
   },
   "file_extension": ".py",
   "mimetype": "text/x-python",
   "name": "python",
   "nbconvert_exporter": "python",
   "pygments_lexer": "ipython3",
   "version": "3.7.6"
  },
  "orig_nbformat": 4
 },
 "nbformat": 4,
 "nbformat_minor": 2
}
