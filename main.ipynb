{
 "cells": [
  {
   "attachments": {},
   "cell_type": "markdown",
   "metadata": {},
   "source": [
    "# Tugas Besar IF2220 Probabilitas dan Statistika\n",
    "### Penarikan Kesimpulan dan Pengujian Hipotesis\n",
    "\n",
    "\n",
    "### Author\n",
    "- Vieri Fajar Firdaus / 13521099\n",
    "- Saddam Annais Shaquille / 13521121"
   ]
  },
  {
   "attachments": {},
   "cell_type": "markdown",
   "metadata": {},
   "source": [
    "### Inisialisasi library dan data"
   ]
  },
  {
   "cell_type": "code",
   "execution_count": 1,
   "metadata": {},
   "outputs": [],
   "source": [
    "import pandas as pd\n",
    "import matplotlib.pyplot as plt\n",
    "import seaborn as sns\n",
    "from IPython.display import display, Markdown, Latex\n",
    "from scipy import stats\n",
    "anggur = pd.read_csv('anggur.csv')\n",
    "anggur.head(100)\n",
    "columns = ['fixed acidity', 'volatile acidity', 'citric acid', 'residual sugar', 'chlorides', 'free sulfur dioxide', 'total sulfur dioxide', 'density', 'pH', 'sulphates', 'alcohol', 'quality']"
   ]
  },
  {
   "attachments": {},
   "cell_type": "markdown",
   "metadata": {},
   "source": [
    "### Data Description\n",
    "- Fixed acidity (keasaman tetap): jumlah asam yang terkandung dalam anggur yang tidak mudah menguap.\n",
    "- Volatile acidity (keasaman mudah menguap): jumlah asam yang terkandung dalam anggur yang mudah menguap.\n",
    "- Citric acid (asam sitrat): jumlah asam sitrat yang terkandung dalam anggur.\n",
    "- Residual sugar (gula sisa): jumlah gula yang tersisa setelah fermentasi selesai.\n",
    "- Chlorides (klorida): jumlah garam klorida yang terkandung dalam anggur.\n",
    "- Free sulfur dioxide (sulfur dioksida bebas): jumlah sulfur dioksida bebas yang terkandung dalam anggur.\n",
    "- Total sulfur dioxide (total sulfur dioksida): jumlah sulfur dioksida total yang terkandung dalam anggur.\n",
    "- Density (densitas): berat relatif anggur dibandingkan dengan air murni pada 20 derajat Celsius.\n",
    "- pH: tingkat keasaman pada skala 0 hingga 14.\n",
    "- Sulphates (sulfat): jumlah sulfat yang terkandung dalam anggur.\n",
    "- Alcohol (alkohol): persentase alkohol dalam anggur.\n",
    "- Quality (kualitas): skor kualitas antara 0 dan 10 berdasarkan data sensorik."
   ]
  },
  {
   "attachments": {},
   "cell_type": "markdown",
   "metadata": {},
   "source": [
    "### 1. Menuliskan deskripsi statistika (*descriptive statistics*) dari semua kolom pada data yang bersifat numerik, terdiri dari mean, median, modus, standar deviasi, variansi, range, nilai minimum, maksimum, kuartil, IQR (*interquartile range*), *skewness*, dan *kurtosis*."
   ]
  },
  {
   "cell_type": "code",
   "execution_count": 2,
   "metadata": {},
   "outputs": [
    {
     "data": {
      "text/markdown": [
       "**Tipe data setiap kolom**"
      ],
      "text/plain": [
       "<IPython.core.display.Markdown object>"
      ]
     },
     "metadata": {},
     "output_type": "display_data"
    },
    {
     "name": "stdout",
     "output_type": "stream",
     "text": [
      "<class 'pandas.core.frame.DataFrame'>\n",
      "RangeIndex: 1000 entries, 0 to 999\n",
      "Data columns (total 12 columns):\n",
      " #   Column                Non-Null Count  Dtype  \n",
      "---  ------                --------------  -----  \n",
      " 0   fixed acidity         1000 non-null   float64\n",
      " 1   volatile acidity      1000 non-null   float64\n",
      " 2   citric acid           1000 non-null   float64\n",
      " 3   residual sugar        1000 non-null   float64\n",
      " 4   chlorides             1000 non-null   float64\n",
      " 5   free sulfur dioxide   1000 non-null   float64\n",
      " 6   total sulfur dioxide  1000 non-null   float64\n",
      " 7   density               1000 non-null   float64\n",
      " 8   pH                    1000 non-null   float64\n",
      " 9   sulphates             1000 non-null   float64\n",
      " 10  alcohol               1000 non-null   float64\n",
      " 11  quality               1000 non-null   int64  \n",
      "dtypes: float64(11), int64(1)\n",
      "memory usage: 93.9 KB\n"
     ]
    }
   ],
   "source": [
    "#untuk mengetahui tipe data dari setiap kolom\n",
    "display(Markdown('**Tipe data setiap kolom**'))\n",
    "anggur.info()"
   ]
  },
  {
   "cell_type": "code",
   "execution_count": 18,
   "metadata": {},
   "outputs": [
    {
     "data": {
      "text/html": [
       "<div>\n",
       "<style scoped>\n",
       "    .dataframe tbody tr th:only-of-type {\n",
       "        vertical-align: middle;\n",
       "    }\n",
       "\n",
       "    .dataframe tbody tr th {\n",
       "        vertical-align: top;\n",
       "    }\n",
       "\n",
       "    .dataframe thead th {\n",
       "        text-align: right;\n",
       "    }\n",
       "</style>\n",
       "<table border=\"1\" class=\"dataframe\">\n",
       "  <thead>\n",
       "    <tr style=\"text-align: right;\">\n",
       "      <th></th>\n",
       "      <th>Mean</th>\n",
       "      <th>Median</th>\n",
       "      <th>Standar Deviasi</th>\n",
       "      <th>Variasi</th>\n",
       "      <th>Range</th>\n",
       "      <th>Kuartil 1</th>\n",
       "      <th>Kuartil 2</th>\n",
       "      <th>Kuartil 3</th>\n",
       "      <th>IQR</th>\n",
       "      <th>Skewness</th>\n",
       "      <th>Kurtosis</th>\n",
       "    </tr>\n",
       "  </thead>\n",
       "  <tbody>\n",
       "    <tr>\n",
       "      <th>fixed acidity</th>\n",
       "      <td>7.152530</td>\n",
       "      <td>7.150000</td>\n",
       "      <td>1.201598</td>\n",
       "      <td>1.443837</td>\n",
       "      <td>8.170000</td>\n",
       "      <td>6.377500</td>\n",
       "      <td>7.150000</td>\n",
       "      <td>8.000000</td>\n",
       "      <td>1.622500</td>\n",
       "      <td>-0.028879</td>\n",
       "      <td>-0.019292</td>\n",
       "    </tr>\n",
       "    <tr>\n",
       "      <th>volatile acidity</th>\n",
       "      <td>0.520839</td>\n",
       "      <td>0.524850</td>\n",
       "      <td>0.095848</td>\n",
       "      <td>0.009187</td>\n",
       "      <td>0.665200</td>\n",
       "      <td>0.456100</td>\n",
       "      <td>0.524850</td>\n",
       "      <td>0.585375</td>\n",
       "      <td>0.129275</td>\n",
       "      <td>-0.197699</td>\n",
       "      <td>0.161853</td>\n",
       "    </tr>\n",
       "    <tr>\n",
       "      <th>citric acid</th>\n",
       "      <td>0.270517</td>\n",
       "      <td>0.272200</td>\n",
       "      <td>0.049098</td>\n",
       "      <td>0.002411</td>\n",
       "      <td>0.292900</td>\n",
       "      <td>0.237800</td>\n",
       "      <td>0.272200</td>\n",
       "      <td>0.302325</td>\n",
       "      <td>0.064525</td>\n",
       "      <td>-0.045576</td>\n",
       "      <td>-0.104679</td>\n",
       "    </tr>\n",
       "    <tr>\n",
       "      <th>residual sugar</th>\n",
       "      <td>2.567104</td>\n",
       "      <td>2.519430</td>\n",
       "      <td>0.987915</td>\n",
       "      <td>0.975977</td>\n",
       "      <td>5.518200</td>\n",
       "      <td>1.896330</td>\n",
       "      <td>2.519430</td>\n",
       "      <td>3.220873</td>\n",
       "      <td>1.324544</td>\n",
       "      <td>0.132638</td>\n",
       "      <td>-0.042980</td>\n",
       "    </tr>\n",
       "    <tr>\n",
       "      <th>chlorides</th>\n",
       "      <td>0.081195</td>\n",
       "      <td>0.082167</td>\n",
       "      <td>0.020111</td>\n",
       "      <td>0.000404</td>\n",
       "      <td>0.125635</td>\n",
       "      <td>0.066574</td>\n",
       "      <td>0.082167</td>\n",
       "      <td>0.095312</td>\n",
       "      <td>0.028738</td>\n",
       "      <td>-0.051319</td>\n",
       "      <td>-0.246508</td>\n",
       "    </tr>\n",
       "    <tr>\n",
       "      <th>free sulfur dioxide</th>\n",
       "      <td>14.907679</td>\n",
       "      <td>14.860346</td>\n",
       "      <td>4.888100</td>\n",
       "      <td>23.893519</td>\n",
       "      <td>27.267847</td>\n",
       "      <td>11.426717</td>\n",
       "      <td>14.860346</td>\n",
       "      <td>18.313098</td>\n",
       "      <td>6.886381</td>\n",
       "      <td>0.007130</td>\n",
       "      <td>-0.364964</td>\n",
       "    </tr>\n",
       "    <tr>\n",
       "      <th>total sulfur dioxide</th>\n",
       "      <td>40.290150</td>\n",
       "      <td>40.190000</td>\n",
       "      <td>9.965767</td>\n",
       "      <td>99.316519</td>\n",
       "      <td>66.810000</td>\n",
       "      <td>33.785000</td>\n",
       "      <td>40.190000</td>\n",
       "      <td>47.022500</td>\n",
       "      <td>13.237500</td>\n",
       "      <td>-0.024060</td>\n",
       "      <td>0.063950</td>\n",
       "    </tr>\n",
       "    <tr>\n",
       "      <th>density</th>\n",
       "      <td>0.995925</td>\n",
       "      <td>0.996000</td>\n",
       "      <td>0.002020</td>\n",
       "      <td>0.000004</td>\n",
       "      <td>0.013800</td>\n",
       "      <td>0.994600</td>\n",
       "      <td>0.996000</td>\n",
       "      <td>0.997200</td>\n",
       "      <td>0.002600</td>\n",
       "      <td>-0.076883</td>\n",
       "      <td>0.016366</td>\n",
       "    </tr>\n",
       "    <tr>\n",
       "      <th>pH</th>\n",
       "      <td>3.303610</td>\n",
       "      <td>3.300000</td>\n",
       "      <td>0.104875</td>\n",
       "      <td>0.010999</td>\n",
       "      <td>0.740000</td>\n",
       "      <td>3.230000</td>\n",
       "      <td>3.300000</td>\n",
       "      <td>3.370000</td>\n",
       "      <td>0.140000</td>\n",
       "      <td>0.147673</td>\n",
       "      <td>0.080910</td>\n",
       "    </tr>\n",
       "    <tr>\n",
       "      <th>sulphates</th>\n",
       "      <td>0.598390</td>\n",
       "      <td>0.595000</td>\n",
       "      <td>0.100819</td>\n",
       "      <td>0.010164</td>\n",
       "      <td>0.670000</td>\n",
       "      <td>0.530000</td>\n",
       "      <td>0.595000</td>\n",
       "      <td>0.670000</td>\n",
       "      <td>0.140000</td>\n",
       "      <td>0.149199</td>\n",
       "      <td>0.064819</td>\n",
       "    </tr>\n",
       "    <tr>\n",
       "      <th>alcohol</th>\n",
       "      <td>10.592280</td>\n",
       "      <td>10.610000</td>\n",
       "      <td>1.510706</td>\n",
       "      <td>2.282233</td>\n",
       "      <td>8.990000</td>\n",
       "      <td>9.560000</td>\n",
       "      <td>10.610000</td>\n",
       "      <td>11.622500</td>\n",
       "      <td>2.062500</td>\n",
       "      <td>-0.018991</td>\n",
       "      <td>-0.131732</td>\n",
       "    </tr>\n",
       "    <tr>\n",
       "      <th>quality</th>\n",
       "      <td>7.958000</td>\n",
       "      <td>8.000000</td>\n",
       "      <td>0.902802</td>\n",
       "      <td>0.815051</td>\n",
       "      <td>5.000000</td>\n",
       "      <td>7.000000</td>\n",
       "      <td>8.000000</td>\n",
       "      <td>9.000000</td>\n",
       "      <td>2.000000</td>\n",
       "      <td>-0.089054</td>\n",
       "      <td>0.108291</td>\n",
       "    </tr>\n",
       "  </tbody>\n",
       "</table>\n",
       "</div>"
      ],
      "text/plain": [
       "                           Mean     Median  Standar Deviasi    Variasi  \\\n",
       "fixed acidity          7.152530   7.150000         1.201598   1.443837   \n",
       "volatile acidity       0.520839   0.524850         0.095848   0.009187   \n",
       "citric acid            0.270517   0.272200         0.049098   0.002411   \n",
       "residual sugar         2.567104   2.519430         0.987915   0.975977   \n",
       "chlorides              0.081195   0.082167         0.020111   0.000404   \n",
       "free sulfur dioxide   14.907679  14.860346         4.888100  23.893519   \n",
       "total sulfur dioxide  40.290150  40.190000         9.965767  99.316519   \n",
       "density                0.995925   0.996000         0.002020   0.000004   \n",
       "pH                     3.303610   3.300000         0.104875   0.010999   \n",
       "sulphates              0.598390   0.595000         0.100819   0.010164   \n",
       "alcohol               10.592280  10.610000         1.510706   2.282233   \n",
       "quality                7.958000   8.000000         0.902802   0.815051   \n",
       "\n",
       "                          Range  Kuartil 1  Kuartil 2  Kuartil 3        IQR  \\\n",
       "fixed acidity          8.170000   6.377500   7.150000   8.000000   1.622500   \n",
       "volatile acidity       0.665200   0.456100   0.524850   0.585375   0.129275   \n",
       "citric acid            0.292900   0.237800   0.272200   0.302325   0.064525   \n",
       "residual sugar         5.518200   1.896330   2.519430   3.220873   1.324544   \n",
       "chlorides              0.125635   0.066574   0.082167   0.095312   0.028738   \n",
       "free sulfur dioxide   27.267847  11.426717  14.860346  18.313098   6.886381   \n",
       "total sulfur dioxide  66.810000  33.785000  40.190000  47.022500  13.237500   \n",
       "density                0.013800   0.994600   0.996000   0.997200   0.002600   \n",
       "pH                     0.740000   3.230000   3.300000   3.370000   0.140000   \n",
       "sulphates              0.670000   0.530000   0.595000   0.670000   0.140000   \n",
       "alcohol                8.990000   9.560000  10.610000  11.622500   2.062500   \n",
       "quality                5.000000   7.000000   8.000000   9.000000   2.000000   \n",
       "\n",
       "                      Skewness  Kurtosis  \n",
       "fixed acidity        -0.028879 -0.019292  \n",
       "volatile acidity     -0.197699  0.161853  \n",
       "citric acid          -0.045576 -0.104679  \n",
       "residual sugar        0.132638 -0.042980  \n",
       "chlorides            -0.051319 -0.246508  \n",
       "free sulfur dioxide   0.007130 -0.364964  \n",
       "total sulfur dioxide -0.024060  0.063950  \n",
       "density              -0.076883  0.016366  \n",
       "pH                    0.147673  0.080910  \n",
       "sulphates             0.149199  0.064819  \n",
       "alcohol              -0.018991 -0.131732  \n",
       "quality              -0.089054  0.108291  "
      ]
     },
     "execution_count": 18,
     "metadata": {},
     "output_type": "execute_result"
    }
   ],
   "source": [
    "display(Markdown('**Deskripsi dari setiap kolom**'))\n",
    "df=pd.DataFrame()\n",
    "df['Mean']=anggur.mean()\n",
    "df['Median']=anggur.median()\n",
    "df['Standar Deviasi']=anggur.std()\n",
    "df['Variasi']=anggur.var()\n",
    "df['Range']=anggur.max()-anggur.min()\n",
    "df['Kuartil 1']=anggur.quantile(0.25)\n",
    "df['Kuartil 2']=anggur.quantile(0.5)\n",
    "df['Kuartil 3']=anggur.quantile(0.75)\n",
    "df['IQR']=df['Kuartil 3']-df['Kuartil 1']\n",
    "df['Skewness']=anggur.skew()\n",
    "df['Kurtosis']=anggur.kurtosis()\n",
    "df"
   ]
  },
  {
   "cell_type": "code",
   "execution_count": 42,
   "metadata": {},
   "outputs": [
    {
     "data": {
      "text/html": [
       "<div>\n",
       "<style scoped>\n",
       "    .dataframe tbody tr th:only-of-type {\n",
       "        vertical-align: middle;\n",
       "    }\n",
       "\n",
       "    .dataframe tbody tr th {\n",
       "        vertical-align: top;\n",
       "    }\n",
       "\n",
       "    .dataframe thead th {\n",
       "        text-align: right;\n",
       "    }\n",
       "</style>\n",
       "<table border=\"1\" class=\"dataframe\">\n",
       "  <thead>\n",
       "    <tr style=\"text-align: right;\">\n",
       "      <th></th>\n",
       "      <th>Tag</th>\n",
       "      <th>number</th>\n",
       "    </tr>\n",
       "  </thead>\n",
       "  <tbody>\n",
       "    <tr>\n",
       "      <th>a</th>\n",
       "      <td>Geek</td>\n",
       "      <td>25</td>\n",
       "    </tr>\n",
       "    <tr>\n",
       "      <th>b</th>\n",
       "      <td>is</td>\n",
       "      <td>30</td>\n",
       "    </tr>\n",
       "    <tr>\n",
       "      <th>c</th>\n",
       "      <td>for</td>\n",
       "      <td>26</td>\n",
       "    </tr>\n",
       "    <tr>\n",
       "      <th>d</th>\n",
       "      <td>Geeksforgeeks</td>\n",
       "      <td>22</td>\n",
       "    </tr>\n",
       "  </tbody>\n",
       "</table>\n",
       "</div>"
      ],
      "text/plain": [
       "             Tag  number\n",
       "a           Geek      25\n",
       "b             is      30\n",
       "c            for      26\n",
       "d  Geeksforgeeks      22"
      ]
     },
     "execution_count": 42,
     "metadata": {},
     "output_type": "execute_result"
    }
   ],
   "source": [
    "lst = [['Geek', 25], ['is', 30], \n",
    "       ['for', 26], ['Geeksforgeeks', 22]] \n",
    "  \n",
    "# creating df object with columns specified    \n",
    "df = pd.DataFrame(lst, columns =['Tag', 'number'],index=['a','b','c','d']) \n",
    "df"
   ]
  },
  {
   "cell_type": "code",
   "execution_count": null,
   "metadata": {},
   "outputs": [],
   "source": [
    "list_mode=[]\n",
    "for i in range(len(anggur)) :\n",
    "    if(len(anggur[columns[i]])==1000) :\n",
    "        list_mode.append(\"Semua data merupakan modus\")\n",
    "    else :\n",
    "        value=\"\"\n",
    "        for j in range(len(anggur[columns[i]]).mode()) :\n",
    "            value=value+str(anggur[columns[i]].mode()[j])+\", \""
   ]
  },
  {
   "cell_type": "code",
   "execution_count": 41,
   "metadata": {},
   "outputs": [
    {
     "data": {
      "text/html": [
       "<div>\n",
       "<style scoped>\n",
       "    .dataframe tbody tr th:only-of-type {\n",
       "        vertical-align: middle;\n",
       "    }\n",
       "\n",
       "    .dataframe tbody tr th {\n",
       "        vertical-align: top;\n",
       "    }\n",
       "\n",
       "    .dataframe thead th {\n",
       "        text-align: right;\n",
       "    }\n",
       "</style>\n",
       "<table border=\"1\" class=\"dataframe\">\n",
       "  <thead>\n",
       "    <tr style=\"text-align: right;\">\n",
       "      <th></th>\n",
       "      <th>0</th>\n",
       "    </tr>\n",
       "  </thead>\n",
       "  <tbody>\n",
       "    <tr>\n",
       "      <th>0</th>\n",
       "      <td>6.54</td>\n",
       "    </tr>\n",
       "  </tbody>\n",
       "</table>\n",
       "</div>"
      ],
      "text/plain": [
       "      0\n",
       "0  6.54"
      ]
     },
     "execution_count": 41,
     "metadata": {},
     "output_type": "execute_result"
    }
   ],
   "source": [
    "mode=pd.DataFrame()\n",
    "# mode['Modus'][0]=anggur[columns[0]].mode()\n",
    "anggur[columns[0]].mode().to_frame()\n",
    "# mode"
   ]
  },
  {
   "cell_type": "code",
   "execution_count": 33,
   "metadata": {},
   "outputs": [
    {
     "data": {
      "text/markdown": [
       "**Modus dari setiap kolom**"
      ],
      "text/plain": [
       "<IPython.core.display.Markdown object>"
      ]
     },
     "metadata": {},
     "output_type": "display_data"
    },
    {
     "data": {
      "text/html": [
       "<div>\n",
       "<style scoped>\n",
       "    .dataframe tbody tr th:only-of-type {\n",
       "        vertical-align: middle;\n",
       "    }\n",
       "\n",
       "    .dataframe tbody tr th {\n",
       "        vertical-align: top;\n",
       "    }\n",
       "\n",
       "    .dataframe thead th {\n",
       "        text-align: right;\n",
       "    }\n",
       "</style>\n",
       "<table border=\"1\" class=\"dataframe\">\n",
       "  <thead>\n",
       "    <tr style=\"text-align: right;\">\n",
       "      <th></th>\n",
       "      <th>0</th>\n",
       "    </tr>\n",
       "  </thead>\n",
       "  <tbody>\n",
       "    <tr>\n",
       "      <th>0</th>\n",
       "      <td>0.5546</td>\n",
       "    </tr>\n",
       "  </tbody>\n",
       "</table>\n",
       "</div>"
      ],
      "text/plain": [
       "        0\n",
       "0  0.5546"
      ]
     },
     "execution_count": 33,
     "metadata": {},
     "output_type": "execute_result"
    }
   ],
   "source": [
    "display(Markdown('**Modus dari setiap kolom**'))\n",
    "anggur[columns[1]].mode().to_frame()"
   ]
  },
  {
   "cell_type": "code",
   "execution_count": 30,
   "metadata": {},
   "outputs": [
    {
     "name": "stderr",
     "output_type": "stream",
     "text": [
      "C:\\Users\\ACER\\AppData\\Roaming\\Python\\Python37\\site-packages\\IPython\\core\\interactiveshell.py:3553: FutureWarning: Could not cast to float64, falling back to object. This behavior is deprecated. In a future version, when a dtype is passed to 'DataFrame', either all columns will be cast to that dtype, or a TypeError will be raised\n",
      "  exec(code_obj, self.user_global_ns, self.user_ns)\n"
     ]
    },
    {
     "data": {
      "text/html": [
       "<div>\n",
       "<style scoped>\n",
       "    .dataframe tbody tr th:only-of-type {\n",
       "        vertical-align: middle;\n",
       "    }\n",
       "\n",
       "    .dataframe tbody tr th {\n",
       "        vertical-align: top;\n",
       "    }\n",
       "\n",
       "    .dataframe thead th {\n",
       "        text-align: right;\n",
       "    }\n",
       "</style>\n",
       "<table border=\"1\" class=\"dataframe\">\n",
       "  <thead>\n",
       "    <tr style=\"text-align: right;\">\n",
       "      <th></th>\n",
       "      <th>FName</th>\n",
       "      <th>LName</th>\n",
       "      <th>Age</th>\n",
       "    </tr>\n",
       "  </thead>\n",
       "  <tbody>\n",
       "    <tr>\n",
       "      <th>0</th>\n",
       "      <td>tom</td>\n",
       "      <td>reacher</td>\n",
       "      <td>25.0</td>\n",
       "    </tr>\n",
       "    <tr>\n",
       "      <th>1</th>\n",
       "      <td>krish</td>\n",
       "      <td>pete</td>\n",
       "      <td>30.0</td>\n",
       "    </tr>\n",
       "    <tr>\n",
       "      <th>2</th>\n",
       "      <td>nick</td>\n",
       "      <td>wilson</td>\n",
       "      <td>26.0</td>\n",
       "    </tr>\n",
       "    <tr>\n",
       "      <th>3</th>\n",
       "      <td>juli</td>\n",
       "      <td>williams</td>\n",
       "      <td>22.0</td>\n",
       "    </tr>\n",
       "  </tbody>\n",
       "</table>\n",
       "</div>"
      ],
      "text/plain": [
       "   FName     LName   Age\n",
       "0    tom   reacher  25.0\n",
       "1  krish      pete  30.0\n",
       "2   nick    wilson  26.0\n",
       "3   juli  williams  22.0"
      ]
     },
     "execution_count": 30,
     "metadata": {},
     "output_type": "execute_result"
    }
   ],
   "source": [
    "     \n",
    "# List1  \n",
    "lst = [['tom', 'reacher', 25], ['krish', 'pete', 30], \n",
    "       ['nick', 'wilson', 26], ['juli', 'williams', 22]] \n",
    "      \n",
    "df = pd.DataFrame(lst, columns =['FName', 'LName', 'Age'],\n",
    "                                           dtype = float) \n",
    "df"
   ]
  },
  {
   "attachments": {},
   "cell_type": "markdown",
   "metadata": {},
   "source": [
    "### 2. Membuat Visualisasi plot distribusi dalam bentuk histogram dan boxplot untuk setiap kolom numerik."
   ]
  },
  {
   "cell_type": "code",
   "execution_count": 17,
   "metadata": {},
   "outputs": [],
   "source": [
    "# Make a function to show the histogram and box plots\n",
    "def hist_box_plot(df: pd.DataFrame, column: str) -> None:\n",
    "  fig, (ax1, ax2) =plt.subplots(nrows = 2, ncols = 1, figsize=(10, 5), sharex=True)\n",
    "  g1 = sns.histplot(data = df, x = column, ax=ax1, color=\"#03C988\", kde = True, line_kws={\"linewidth\": 1.5, \"alpha\": 1})\n",
    "  g1.lines[0].set_color('#DF7857')\n",
    "  g2 = sns.boxplot(data = df, x = column, ax=ax2, color=\"#03C988\", flierprops={\"marker\":'o', \"markersize\":5, \"markeredgecolor\":'black', \"markerfacecolor\":'white', \"alpha\":0.6})\n",
    "  g1.set(xlabel=None)\n",
    "  g1.set(ylabel=None)\n",
    "  g2.set(xlabel=None)\n",
    "  g2.set(ylabel=None)\n",
    "  fig.suptitle(column, y = 0.95, fontsize = 17)"
   ]
  },
  {
   "cell_type": "code",
   "execution_count": 18,
   "metadata": {},
   "outputs": [
    {
     "data": {
      "image/png": "[encoded data removed]",
      "text/plain": [
       "<Figure size 1000x500 with 2 Axes>"
      ]
     },
     "metadata": {},
     "output_type": "display_data"
    }
   ],
   "source": [
    "# Untuk kolom fixed acidity\n",
    "hist_box_plot(anggur, anggur.columns[0])"
   ]
  },
  {
   "attachments": {},
   "cell_type": "markdown",
   "metadata": {},
   "source": [
    "- Berdasarkan histogram, terlihat bahwa data terdistribusi secara normal dengan condong kiri (*negative skewed*) yang hampir tidak terlihat. \n",
    "- Berdasarkan boxplot, terlihat bahwa data fix acidity sangat beragam dengan nilai minimumnya hampir mendekati 4 dan maksimumnya melebihi 10 serta mediannya sedikit di atas 7\n",
    "- Terdapat beberapa *outliers* yang terlihat di bawah nilai minimum maupun di atas nilai maksimum. "
   ]
  },
  {
   "cell_type": "code",
   "execution_count": 19,
   "metadata": {},
   "outputs": [
    {
     "data": {
      "image/png": "[encoded data removed]",
      "text/plain": [
       "<Figure size 1000x500 with 2 Axes>"
      ]
     },
     "metadata": {},
     "output_type": "display_data"
    }
   ],
   "source": [
    "# Untuk kolom volatile acidity\n",
    "hist_box_plot(anggur, anggur.columns[1])"
   ]
  },
  {
   "attachments": {},
   "cell_type": "markdown",
   "metadata": {},
   "source": [
    "- Berdasarkan histogram, terlihat bahwa data terdistribusi secara normal dengan sedikit condong kanan (*positive skewed*). \n",
    "- Berdasarkan boxplot, terlihat bahwa data *volatile acidity* memiliki rentang yang cukup kecil.\n",
    "- Nilai minimumnya kurang dari 0.3 dan maksimumnya kurang dari 0.8 serta mediannya sedikit di atas 0.5.\n",
    "- Terdapat 1 *outliers* yang terlihat di atas nilai maksimum dan beberapa lainnya di bawah nilai minimum. "
   ]
  },
  {
   "attachments": {},
   "cell_type": "markdown",
   "metadata": {},
   "source": [
    "### 3. Menentukan setiap kolom numerik berdistribusi normal atau tidak. Gunakan normality test yang dikaitkan dengan histogram plot."
   ]
  },
  {
   "cell_type": "code",
   "execution_count": 47,
   "metadata": {},
   "outputs": [
    {
     "name": "stdout",
     "output_type": "stream",
     "text": [
      "p = 0.0225815\n",
      "H0 ditolak, normal\n"
     ]
    },
    {
     "data": {
      "image/png": "[encoded data removed]",
      "text/plain": [
       "<Figure size 1000x250 with 1 Axes>"
      ]
     },
     "metadata": {},
     "output_type": "display_data"
    }
   ],
   "source": [
    "def normality(column):\n",
    "    k2,p = stats.normaltest(anggur[column])\n",
    "    alpha = 5e-2\n",
    "    print(\"p = {:g}\".format(p))\n",
    "    if p < alpha:  \n",
    "        print(\"H0 ditolak, normal\")\n",
    "    else:\n",
    "        print(\"H0 tidak bisa ditolak, tidak normal\")\n",
    "    fig, ax1 =plt.subplots(nrows=1,ncols = 1, figsize=(10, 2.5), sharex=True)\n",
    "    g1 = sns.histplot(data = anggur, x = column, ax=ax1, color=\"#03c9c9\", kde = True, line_kws={\"linewidth\": 1.5, \"alpha\": 1})\n",
    "    g1.lines[0].set_color('#c91703')\n",
    "    g1.set(ylabel=None)\n",
    "normality(columns[1])\n"
   ]
  },
  {
   "attachments": {},
   "cell_type": "markdown",
   "metadata": {},
   "source": [
    "### 4. Melakukan test hipotesis 1 sampel, dengan menuliskan 6 langkah testing dan menampilkan juga boxplotnya untuk kolom/bagian yang bersesuaian."
   ]
  },
  {
   "attachments": {},
   "cell_type": "markdown",
   "metadata": {},
   "source": [
    "#### Langkah Testing : \n",
    "1. Tentukan Hipotesis nol ($H_0: \\theta = \\theta_0$), dimana $\\theta$ bisa berupa $\\theta$, $\\theta$, $p$, atau data lain berdistribusi tertentu(Normal, binomial, dsc.)\n",
    "2. Pilih hipotesis alternatif $H_1$ salah dari dari $\\theta > \\theta_0$ , $\\theta < \\theta_0$ , atau $\\theta \\neq \\theta_0$\n",
    "3. Tentukan tingkat signifikan $\\alpha$\n",
    "4. Tentukan uji statistik yang sesuai dan tentukan daerah kritis.\n",
    "5. Hitung nilai uji statistik dari data sample. Hitung *p-value* sesuai dengan uji statistik yang\n",
    "digunakan.\n",
    "6. Ambil keputusan dengan TOLAK $H_0$ jika nilai uji terletak di daerah kritis atau dengan tes signifikan, TOLAK $H_0$ jika *p-value* lebih kecil dibanding tingkat signifikansi $\\alpha$ yang diinginkan"
   ]
  },
  {
   "cell_type": "code",
   "execution_count": null,
   "metadata": {},
   "outputs": [],
   "source": [
    "def hipotesis_1(data,keterangan,batas) :\n",
    "    #keterangan untuk lebih dari, kurang dari, sama dengan, proporsi\n",
    "    #batas merupakan nilai yang menjadi batas uji\n",
    "    H0=\"μ=\"+str(batas)\n",
    "\n",
    "    if(keterangan==\"lebih dari\") :\n",
    "        H1=\"μ>\"+str(batas)\n",
    "        alpa=0.05\n",
    "        print(\"uji single right tailed\")\n",
    "        z,p=ztest(data, value=batas, alternative='larger')\n",
    "        za=st.norm.ppf(1-alpa)\n",
    "        \n",
    "    elif(keterangan==\"kurang dari\") :\n",
    "        keterangan=\"<\"\n",
    "    elif(keterangan==\"sama dengan\") :\n",
    "        keterangan=\"==\"\n",
    "    elif(keterangan==\"proporsi\") :"
   ]
  }
 ],
 "metadata": {
  "kernelspec": {
   "display_name": "Python 3",
   "language": "python",
   "name": "python3"
  },
  "language_info": {
   "codemirror_mode": {
    "name": "ipython",
    "version": 3
   },
   "file_extension": ".py",
   "mimetype": "text/x-python",
   "name": "python",
   "nbconvert_exporter": "python",
   "pygments_lexer": "ipython3",
   "version": "3.7.6"
  },
  "orig_nbformat": 4
 },
 "nbformat": 4,
 "nbformat_minor": 2
}
